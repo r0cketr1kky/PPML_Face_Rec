{
 "cells": [
  {
   "cell_type": "code",
   "execution_count": null,
   "metadata": {},
   "outputs": [],
   "source": [
    "import tf_encrypted as tfe\n",
    "import tensorflow as tf\n",
    "\n",
    "config = tfe.RemoteConfig.load(\"/tmp/tfe.config\")\n",
    "\n",
    "tfe.set_config(config)\n",
    "tfe.set_protocol(tfe.protocol.SecureNN())\n",
    "\n",
    "input_shape = (1, 224, 224, 3)\n",
    "output_shape = (1, 10)"
   ]
  },
  {
   "cell_type": "code",
   "execution_count": null,
   "metadata": {
    "scrolled": true
   },
   "outputs": [],
   "source": [
    "client = tfe.serving.QueueClient(input_shape=input_shape, output_shape=output_shape)"
   ]
  },
  {
   "cell_type": "code",
   "execution_count": null,
   "metadata": {},
   "outputs": [],
   "source": [
    "sess = tfe.Session(config=config)"
   ]
  },
  {
   "cell_type": "code",
   "execution_count": null,
   "metadata": {},
   "outputs": [],
   "source": [
    "fpath = 'subject06_centerlight-0000.jpg'"
   ]
  },
  {
   "cell_type": "code",
   "execution_count": null,
   "metadata": {},
   "outputs": [],
   "source": [
    "from matplotlib import pyplot\n",
    "from PIL import Image\n",
    "from numpy import asarray\n",
    "import tensorflow as tf\n",
    "import tf_encrypted as tfe \n",
    "import numpy as np\n",
    "import time\n",
    "\n",
    "def extract_face(filename, required_size=(224, 224, 3)):\n",
    "    \n",
    "    pixels = Image.open(filename).convert('RGB')\n",
    "    image = np.asarray(pixels)\n",
    "    image = np.resize(image, required_size)\n",
    "    print(image.shape)\n",
    "\n",
    "    return image\n",
    "\n",
    "def get_embeddings(filenames):\n",
    "    faces = [extract_face(f) for f in filenames]\n",
    "    # convert into an array of samples\n",
    "    samples = asarray(faces, 'float32')\n",
    "    print(samples.shape)\n",
    "    samples /= 255\n",
    "    #print(samples)\n",
    "\n",
    "    starttime = time.time()\n",
    "    \n",
    "    res = client.run(sess, samples)\n",
    "    print(res)\n",
    "    \n",
    "    predicted_label = np.argmax(res)\n",
    "    print(predicted_label)\n",
    "    \n",
    "    print(\"Private prediction time is - \")\n",
    "    print(time.time() - starttime)\n",
    "    return\n",
    "\n",
    "embeddings = get_embeddings([fpath])"
   ]
  },
  {
   "cell_type": "code",
   "execution_count": null,
   "metadata": {},
   "outputs": [],
   "source": []
  }
 ],
 "metadata": {
  "kernelspec": {
   "display_name": "Python 3",
   "language": "python",
   "name": "python3"
  },
  "language_info": {
   "codemirror_mode": {
    "name": "ipython",
    "version": 3
   },
   "file_extension": ".py",
   "mimetype": "text/x-python",
   "name": "python",
   "nbconvert_exporter": "python",
   "pygments_lexer": "ipython3",
   "version": "3.7.8"
  }
 },
 "nbformat": 4,
 "nbformat_minor": 4
}
